{
  "nbformat": 4,
  "nbformat_minor": 0,
  "metadata": {
    "colab": {
      "private_outputs": true,
      "provenance": [],
      "authorship_tag": "ABX9TyOBr5hXw/2SLqChgGxADPfP",
      "include_colab_link": true
    },
    "kernelspec": {
      "name": "python3",
      "display_name": "Python 3"
    },
    "language_info": {
      "name": "python"
    }
  },
  "cells": [
    {
      "cell_type": "markdown",
      "metadata": {
        "id": "view-in-github",
        "colab_type": "text"
      },
      "source": [
        "<a href=\"https://colab.research.google.com/github/Arfanbashashaik/DAA-Hands-On-6/blob/main/non_random_Quicksort.ipynb\" target=\"_parent\"><img src=\"https://colab.research.google.com/assets/colab-badge.svg\" alt=\"Open In Colab\"/></a>"
      ]
    },
    {
      "cell_type": "code",
      "execution_count": null,
      "metadata": {
        "id": "jzb0dNw0LZZJ"
      },
      "outputs": [],
      "source": [
        "def pivot_split(arr,low,high):\n",
        "    key =arr[high]\n",
        "    left=low\n",
        "    right=high-1\n",
        "    while left<=right:\n",
        "        if arr[left]<key:\n",
        "            left+=1\n",
        "        elif arr[left]>key:\n",
        "            arr[left],arr[right] = arr[right],arr[left]\n",
        "            right-=1\n",
        "        else:\n",
        "            left += 1\n",
        "    arr[left], arr[high]= arr[high],arr[left]\n",
        "    return left\n",
        "\n",
        "def quicksort(arr,low,high):\n",
        "    if low<high:\n",
        "        key_index=pivot_split(arr, low, high)\n",
        "        quicksort(arr,low,key_index-1)\n",
        "        quicksort(arr,key_index+ 1, high)\n",
        "if __name__== \"__main__\":\n",
        "    test_array=[35,20,25,10,72,13,1]\n",
        "    print(\"Input Array Before Sorting:\",test_array)\n",
        "    quicksort(test_array,0,len(test_array)-1)\n",
        "    print(\"Array sorted using non-random quicksort:\",test_array)\n"
      ]
    }
  ]
}