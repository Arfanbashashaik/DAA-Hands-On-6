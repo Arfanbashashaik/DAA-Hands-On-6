{
  "nbformat": 4,
  "nbformat_minor": 0,
  "metadata": {
    "colab": {
      "private_outputs": true,
      "provenance": [],
      "authorship_tag": "ABX9TyOtu6QKI9VPt7Mmpz2mdZvP",
      "include_colab_link": true
    },
    "kernelspec": {
      "name": "python3",
      "display_name": "Python 3"
    },
    "language_info": {
      "name": "python"
    }
  },
  "cells": [
    {
      "cell_type": "markdown",
      "metadata": {
        "id": "view-in-github",
        "colab_type": "text"
      },
      "source": [
        "<a href=\"https://colab.research.google.com/github/Arfanbashashaik/DAA-Hands-On-6/blob/main/Random_Quicksort.ipynb\" target=\"_parent\"><img src=\"https://colab.research.google.com/assets/colab-badge.svg\" alt=\"Open In Colab\"/></a>"
      ]
    },
    {
      "cell_type": "code",
      "source": [
        "import random\n",
        "\n",
        "def pivot_split(array,low,high):\n",
        "    key=array[high]\n",
        "    left= low\n",
        "    right =high - 1\n",
        "    while left<= right:\n",
        "        if array[left]<key:\n",
        "            left+= 1\n",
        "        elif array[left]>key:\n",
        "            array[left],array[right]=array[right],array[left]\n",
        "            right-=1\n",
        "        else:\n",
        "            left+=1\n",
        "    array[left],array[high]= array[high],array[left]\n",
        "    return left\n",
        "def random_quicksort(array):\n",
        "    def recursive_quicksort(low,high):\n",
        "        if low<high:\n",
        "            key_index=pivot_split(array,low,high)\n",
        "            recursive_quicksort(low,key_index- 1)\n",
        "            recursive_quicksort(key_index+1,high)\n",
        "    recursive_quicksort(0,len(array)- 1)\n",
        "#Example\n",
        "if __name__== \"__main__\":\n",
        "    test_array=[35,20,25,10,72,13,1]\n",
        "    print(\"Input Array Before Sorting:\",test_array)\n",
        "    random_quicksort(test_array)\n",
        "    print(\"Array sorted using Enhanced QuickSort:\",test_array)"
      ],
      "metadata": {
        "id": "AsqyXecBHvWx"
      },
      "execution_count": null,
      "outputs": []
    }
  ]
}