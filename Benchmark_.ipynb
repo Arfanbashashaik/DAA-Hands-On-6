{
  "nbformat": 4,
  "nbformat_minor": 0,
  "metadata": {
    "colab": {
      "private_outputs": true,
      "provenance": [],
      "authorship_tag": "ABX9TyPonqB6aEP7CnVloJuy1rBl",
      "include_colab_link": true
    },
    "kernelspec": {
      "name": "python3",
      "display_name": "Python 3"
    },
    "language_info": {
      "name": "python"
    }
  },
  "cells": [
    {
      "cell_type": "markdown",
      "metadata": {
        "id": "view-in-github",
        "colab_type": "text"
      },
      "source": [
        "<a href=\"https://colab.research.google.com/github/Arfanbashashaik/DAA-Hands-On-6/blob/main/Benchmark_.ipynb\" target=\"_parent\"><img src=\"https://colab.research.google.com/assets/colab-badge.svg\" alt=\"Open In Colab\"/></a>"
      ]
    },
    {
      "cell_type": "code",
      "execution_count": null,
      "metadata": {
        "id": "L9YjEvK3Ops5"
      },
      "outputs": [],
      "source": [
        "import time\n",
        "import random\n",
        "import matplotlib.pyplot as plt\n",
        "\n",
        "def pivot_split(arr,low,high):\n",
        "    key=arr[high]\n",
        "    left= low\n",
        "    right=high- 1\n",
        "    while left<=right:\n",
        "        if arr[left]< key:\n",
        "            left +=1\n",
        "        elif arr[left]>key:\n",
        "            arr[left],arr[right]=arr[right],arr[left]\n",
        "            right -=1\n",
        "        else:\n",
        "            left+=1\n",
        "    arr[left],arr[high]=arr[high],arr[left]\n",
        "    return left\n",
        "def nonrandom_quicksort(arr,low,high):\n",
        "    if low<high:\n",
        "        key_index=pivot_split(arr,low,high)\n",
        "        nonrandom_quicksort(arr,low,key_index- 1)\n",
        "        nonrandom_quicksort(arr,key_index+1,high)\n",
        "def create_input_array(size,scenario='average'):\n",
        "    if scenario=='best':\n",
        "        return list(range(1,size+1))\n",
        "    elif scenario == 'worst':\n",
        "        return list(range(size,0,-1))\n",
        "    else:\n",
        "        return [random.randint(1, 1000) for _ in range(size)]\n",
        "def calculate_average_time(sort_function,input_creator,array_size,trials):\n",
        "    total_duration = 0\n",
        "    for _ in range(trials):\n",
        "        data = input_creator(array_size)\n",
        "        start_time = time.time()\n",
        "        sort_function(data,0,len(data)- 1)\n",
        "        end_time =time.time()\n",
        "        total_duration+=end_time-start_time\n",
        "    return total_duration\n",
        "def performance_benchmark(sort_function,sizes,trials):\n",
        "    time_records=[]\n",
        "    for size in sizes:\n",
        "        avg_time =calculate_average_time(sort_function,lambda s:create_input_array(s),size,trials)\n",
        "        time_records.append(avg_time)\n",
        "        print(f\"Completed size{size}\")\n",
        "    return time_records\n",
        "if __name__==\"__main__\":\n",
        "    input_sizes =[10, 100, 500, 1000, 2000]\n",
        "    number_of_trials= 10\n",
        "    best_case_times =performance_benchmark(nonrandom_quicksort, input_sizes, number_of_trials)  # Best case\n",
        "    worst_case_times =performance_benchmark(nonrandom_quicksort, input_sizes, number_of_trials)  # Worst case\n",
        "    average_case_times=performance_benchmark(nonrandom_quicksort, input_sizes, number_of_trials)  # Average case\n",
        "    plt.plot(input_sizes, best_case_times, label='Best Case')\n",
        "    plt.plot(input_sizes,worst_case_times,label='Worst Case')\n",
        "    plt.plot(input_sizes,average_case_times,label='Average Case')\n",
        "    plt.xlabel('Input Size')\n",
        "    plt.ylabel('Time (seconds)')\n",
        "    plt.title('Non-Random QuickSort Performance')\n",
        "    plt.legend()\n",
        "    plt.show()\n",
        "\n"
      ]
    }
  ]
}